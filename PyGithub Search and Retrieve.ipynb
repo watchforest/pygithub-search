{
 "cells": [
  {
   "cell_type": "code",
   "id": "initial_id",
   "metadata": {
    "collapsed": true
   },
   "source": "!pip install PyGithub",
   "outputs": [],
   "execution_count": null
  },
  {
   "metadata": {},
   "cell_type": "code",
   "source": [
    "from github import Github\n",
    "from github import Auth\n",
    "import pickle\n",
    "import time\n",
    "import calendar"
   ],
   "id": "f6204e5cd679f069",
   "outputs": [],
   "execution_count": null
  },
  {
   "metadata": {},
   "cell_type": "code",
   "source": "token = '' #Generate personal token under Developer Settings",
   "id": "f5fe1e8fafa402f1",
   "outputs": [],
   "execution_count": null
  },
  {
   "metadata": {},
   "cell_type": "code",
   "source": [
    "auth = Auth.Token(token)\n",
    "g = Github(auth=auth)"
   ],
   "id": "6a0c9a8f11094616",
   "outputs": [],
   "execution_count": null
  },
  {
   "metadata": {},
   "cell_type": "code",
   "source": [
    "n = 0\n",
    "\n",
    "# Enter your query. Note: No matter which way the results are sorted onlyt the first 1000 repositories matching the query are returned.\n",
    "query = ''  \n",
    "\n",
    "listofrepos = []\n",
    "for repo in g.search_repositories(query):  \n",
    "        \n",
    "        if g.get_rate_limit().core.remaining > 0:\n",
    "            repo_dict = {\n",
    "                'id': repo.id,\n",
    "                'fullname': repo.full_name,\n",
    "                'name': repo.name,\n",
    "                'owner': repo.owner,\n",
    "                'website': repo.homepage,\n",
    "                'forks': repo.forks_count,\n",
    "                'createdAt': repo.created_at,\n",
    "                'updatedAt': repo.updated_at,\n",
    "                'commits': repo.get_stats_participation().all,\n",
    "                'topics': repo.get_topics(),\n",
    "                'watchers': [watcher.login for watcher in repo.get_subscribers()], #get subscribers fetch people who are watching a repo\n",
    "                'stargazers': [stargazer.login for stargazer in repo.get_stargazers()], # watchers , watchers_count , and stargazers_count all refer to the same, which is people who have starred a repo\n",
    "                'contributors': [contributor.login for contributor in repo.get_contributors()]\n",
    "            } \n",
    "            \n",
    "            try:\n",
    "                repo_dict['readme'] = repo.get_readme().decoded_content\n",
    "            except:\n",
    "                print(f\"Failed to collect readme for {repo.full_name}\")\n",
    "            listofrepos.append(repo_dict)\n",
    "            n += 1\n",
    "            print(f\"{repo.full_name} done. {n} repositories collected. {g.get_rate_limit().core.remaining} calls remaining\")\n",
    "            if n % 100 == 0:\n",
    "                pickle.dump(listofrepos, open('repositories.pkl', 'wb'))\n",
    "        \n",
    "        else:\n",
    "            core_rate_limit = g.get_rate_limit().core\n",
    "            reset_timestamp = calendar.timegm(core_rate_limit.reset.timetuple())\n",
    "            sleep_time = reset_timestamp - calendar.timegm(time.gmtime()) + 5\n",
    "            print(f'Pickling data before sleeping for {sleep_time} seconds...')\n",
    "            pickle.dump(listofrepos, open('repositories.pkl', 'wb'))\n",
    "            time.sleep(sleep_time)\n",
    "\n",
    "pickle.dump(listofrepos, open('repositories_final.pkl', 'wb'))"
   ],
   "id": "e08928cc9c82d64e",
   "outputs": [],
   "execution_count": null
  }
 ],
 "metadata": {
  "kernelspec": {
   "display_name": "Python 3",
   "language": "python",
   "name": "python3"
  },
  "language_info": {
   "codemirror_mode": {
    "name": "ipython",
    "version": 2
   },
   "file_extension": ".py",
   "mimetype": "text/x-python",
   "name": "python",
   "nbconvert_exporter": "python",
   "pygments_lexer": "ipython2",
   "version": "2.7.6"
  }
 },
 "nbformat": 4,
 "nbformat_minor": 5
}
